{
 "cells": [
  {
   "cell_type": "code",
   "execution_count": 86,
   "metadata": {
    "scrolled": true
   },
   "outputs": [
    {
     "name": "stdout",
     "output_type": "stream",
     "text": [
      "https://pythonhow.com/real-estate/rock-springs-wy/LCWYROCKSPRINGS/#t=0&s=0\n",
      "https://pythonhow.com/real-estate/rock-springs-wy/LCWYROCKSPRINGS/#t=0&s=10\n",
      "https://pythonhow.com/real-estate/rock-springs-wy/LCWYROCKSPRINGS/#t=0&s=20\n"
     ]
    }
   ],
   "source": [
    "import requests\n",
    "import pandas\n",
    "from bs4 import BeautifulSoup\n",
    "\n",
    "r = requests.get(\"https://pythonhow.com/real-estate/rock-springs-wy/LCWYROCKSPRINGS/\")\n",
    "c = r.content\n",
    "\n",
    "soup = BeautifulSoup(c, \"html.parser\")\n",
    "\n",
    "all = soup.find_all(\"div\", {\"class\":\"propertyRow\"})\n",
    "all[0].find(\"h4\", {\"class\": \"propPrice\"}).text.strip()\n",
    "\n",
    "page_nr = soup.find_all(\"a\", {\"class\": \"Page\"})[-1].text\n",
    "\n",
    "l = []\n",
    "\n",
    "for page in range(0,int(page_nr)*10,10):\n",
    "    print(base_url+str(page))\n",
    "    r=requests.get(base_url + str(page))\n",
    "    c=r.content\n",
    "    soup = BeautifulSoup(c, \"html.parser\")\n",
    "    all = soup.find_all(\"div\", {\"class\":\"propertyRow\"})\n",
    "    \n",
    "\n",
    "    for item in all:\n",
    "        d={}\n",
    "        d[\"Address\"] = item.find_all(\"span\", {\"class\", \"propAddressCollapse\"})[0].text\n",
    "        \n",
    "        try:    \n",
    "            d[\"Locality\"] = item.find_all(\"span\", {\"class\", \"propAddressCollapse\"})[1].text\n",
    "        except:\n",
    "            d[\"Locality\"] = None\n",
    "            \n",
    "        d[\"Price\"] = item.find(\"h4\", {\"class\", \"propPrice\"}).text.strip()\n",
    "\n",
    "        try:    \n",
    "            d[\"Beds\"] = item.find(\"span\", {\"class\", \"infoBed\"}).find(\"b\").text\n",
    "        except:\n",
    "            d[\"Beds\"] = None\n",
    "\n",
    "        try:    \n",
    "            d[\"Area\"] = item.find(\"span\", {\"class\", \"infoSqFt\"}).find(\"b\").text\n",
    "        except:\n",
    "            d[\"Area\"] = None\n",
    "\n",
    "        try:    \n",
    "            d[\"Full Baths\"] = item.find(\"span\", {\"class\", \"infoFullBath\"}).find(\"b\").text\n",
    "        except:\n",
    "            d[\"Full Baths\"] = None\n",
    "\n",
    "        try:    \n",
    "            d[\"Half Baths\"] = item.find(\"span\", {\"class\", \"infoHalfBath\"}).find(\"b\").text\n",
    "        except:\n",
    "            d[\"Half Baths\"] = None\n",
    "\n",
    "        for column_group in item.find_all(\"div\", {\"class\":\"columnGroup\"}):\n",
    "            for feature_group, feature_name in zip(column_group.find_all(\"span\", {\"class\": \"featureGroup\"}), column_group.find_all(\"span\", {\"class\":\"featureName\"})):\n",
    "                if \"Lot Size\" in feature_group.text:\n",
    "                    d[\"Lot Size\"] = feature_name.text\n",
    "\n",
    "        l.append(d)\n",
    "\n",
    "df=pandas.DataFrame(l)\n",
    "\n",
    "# df\n",
    "\n",
    "df.to_csv(\"Output.csv\")"
   ]
  },
  {
   "cell_type": "code",
   "execution_count": null,
   "metadata": {},
   "outputs": [],
   "source": []
  }
 ],
 "metadata": {
  "kernelspec": {
   "display_name": "Python 3",
   "language": "python",
   "name": "python3"
  },
  "language_info": {
   "codemirror_mode": {
    "name": "ipython",
    "version": 3
   },
   "file_extension": ".py",
   "mimetype": "text/x-python",
   "name": "python",
   "nbconvert_exporter": "python",
   "pygments_lexer": "ipython3",
   "version": "3.5.4rc1"
  }
 },
 "nbformat": 4,
 "nbformat_minor": 2
}

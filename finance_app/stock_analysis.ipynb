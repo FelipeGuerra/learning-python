{
 "cells": [
  {
   "cell_type": "code",
   "execution_count": 41,
   "metadata": {
    "scrolled": true
   },
   "outputs": [],
   "source": [
    "from pandas_datareader import data\n",
    "import fix_yahoo_finance as yf\n",
    "import datetime\n",
    "from bokeh.plotting import figure, show, output_file\n",
    "from bokeh.embed import components\n",
    "from bokeh.resources import CDN"
   ]
  },
  {
   "cell_type": "code",
   "execution_count": 43,
   "metadata": {},
   "outputs": [
    {
     "name": "stdout",
     "output_type": "stream",
     "text": [
      "[*********************100%***********************]  1 of 1 downloaded\n"
     ]
    }
   ],
   "source": [
    "# start = datetime.datetime(2015,3,1)\n",
    "# end = datetime.datetime(2016,3,11)\n",
    "\n",
    "start = datetime.datetime.today() - datetime.timedelta(days=100)\n",
    "end = datetime.datetime.today() + datetime.timedelta(days=1)\n",
    "\n",
    "yf.pdr_override()\n",
    "df = data.get_data_yahoo(tickers=\"GOOG\", start=start, end=end)\n",
    "\n",
    "df\n",
    "\n",
    "#date_increase = df.index[df.Close > df.Open]\n",
    "#date_decrease = df.index[df.Close < df.Open]\n",
    "\n",
    "def inc_dec(c, o):\n",
    "    if c > o:\n",
    "        value = \"Increase\"\n",
    "    elif c < o:\n",
    "        value = \"Decrease\"\n",
    "    else:\n",
    "        value = \"Equal\"\n",
    "    return value\n",
    "\n",
    "df[\"Status\"] = [inc_dec(c,o) for c, o in zip(df.Close, df.Open)]\n",
    "\n",
    "df[\"Middle\"] = (df.Open+df.Close)/2\n",
    "df[\"Height\"] = abs(df.Close-df.Open)"
   ]
  },
  {
   "cell_type": "code",
   "execution_count": 35,
   "metadata": {
    "scrolled": false
   },
   "outputs": [
    {
     "name": "stdout",
     "output_type": "stream",
     "text": [
      "\n",
      "<div class=\"bk-root\">\n",
      "    <div class=\"bk-plotdiv\" id=\"f903b26a-bcf1-44e4-9735-9a6a4ae34846\"></div>\n",
      "</div>\n"
     ]
    }
   ],
   "source": [
    "p = figure(x_axis_type=\"datetime\", width=1000, height=300, sizing_mode='scale_width')\n",
    "p.title.text=\"Candlestick Chart\"\n",
    "p.grid.grid_line_alpha = 0.3\n",
    "\n",
    "hours_12 = 12*60*60*1000\n",
    "\n",
    "p.segment(df.index, df.High, df.index, df.Low, color=\"Black\")\n",
    "\n",
    "p.rect(df.index[df.Status ==  \"Increase\"], df.Middle[df.Status==\"Increase\"],\n",
    "       hours_12, df.Height[df.Status == \"Increase\"], fill_color=\"#ccffff\", line_color=\"black\")\n",
    "\n",
    "p.rect(df.index[df.Status == \"Decrease\"], df.Middle[df.Status==\"Decrease\"],\n",
    "       hours_12, df.Height[df.Status == \"Decrease\"], fill_color=\"#ff3333\", line_color=\"black\")\n",
    "\n",
    "# output_file(\"CS.html\")\n",
    "# show(p)\n",
    "\n",
    "script1, div1 = components(p)\n",
    "cdn_js = CDN.js_files\n",
    "cdn_css = CDN.css_files\n",
    "\n",
    "print(div1)"
   ]
  }
 ],
 "metadata": {
  "kernelspec": {
   "display_name": "Python 3",
   "language": "python",
   "name": "python3"
  },
  "language_info": {
   "codemirror_mode": {
    "name": "ipython",
    "version": 3
   },
   "file_extension": ".py",
   "mimetype": "text/x-python",
   "name": "python",
   "nbconvert_exporter": "python",
   "pygments_lexer": "ipython3",
   "version": "3.5.4rc1"
  }
 },
 "nbformat": 4,
 "nbformat_minor": 2
}
